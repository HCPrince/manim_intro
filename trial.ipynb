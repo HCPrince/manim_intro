{
 "cells": [
  {
   "cell_type": "code",
   "execution_count": 2,
   "id": "6eba3985",
   "metadata": {},
   "outputs": [
    {
     "name": "stdout",
     "output_type": "stream",
     "text": [
      "hello world! This is a simple Python script running in a Unix-like environment.\n"
     ]
    }
   ],
   "source": [
    "print(\"hello world! This is a simple Python script running in a Unix-like environment.\")"
   ]
  },
  {
   "cell_type": "code",
   "execution_count": 1,
   "id": "006c9a95",
   "metadata": {},
   "outputs": [
    {
     "name": "stdout",
     "output_type": "stream",
     "text": [
      "Collecting manim\n",
      "  Using cached manim-0.19.0-py3-none-any.whl.metadata (11 kB)\n",
      "Requirement already satisfied: Pillow>=9.1 in /Users/hcprince/Anaconda/anaconda3/lib/python3.12/site-packages (from manim) (10.3.0)\n",
      "Requirement already satisfied: Pygments>=2.0.0 in /Users/hcprince/Anaconda/anaconda3/lib/python3.12/site-packages (from manim) (2.15.1)\n",
      "Collecting av<14.0.0,>=9.0.0 (from manim)\n",
      "  Using cached av-13.1.0-cp312-cp312-macosx_11_0_arm64.whl.metadata (4.4 kB)\n",
      "Requirement already satisfied: beautifulsoup4>=4.12 in /Users/hcprince/Anaconda/anaconda3/lib/python3.12/site-packages (from manim) (4.12.3)\n",
      "Requirement already satisfied: click>=8.0 in /Users/hcprince/Anaconda/anaconda3/lib/python3.12/site-packages (from manim) (8.1.7)\n",
      "Collecting cloup>=2.0.0 (from manim)\n",
      "  Using cached cloup-3.0.8-py2.py3-none-any.whl.metadata (6.4 kB)\n",
      "Requirement already satisfied: decorator>=4.3.2 in /Users/hcprince/Anaconda/anaconda3/lib/python3.12/site-packages (from manim) (5.1.1)\n",
      "Collecting isosurfaces>=0.1.0 (from manim)\n",
      "  Using cached isosurfaces-0.1.2-py3-none-any.whl.metadata (3.3 kB)\n",
      "Collecting manimpango<1.0.0,>=0.5.0 (from manim)\n",
      "  Using cached ManimPango-0.6.0-cp312-cp312-macosx_11_0_arm64.whl.metadata (8.0 kB)\n",
      "Collecting mapbox-earcut>=1.0.0 (from manim)\n",
      "  Using cached mapbox_earcut-1.0.3-cp312-cp312-macosx_11_0_arm64.whl.metadata (2.2 kB)\n",
      "Collecting moderngl<6.0.0,>=5.0.0 (from manim)\n",
      "  Using cached moderngl-5.12.0-cp312-cp312-macosx_11_0_arm64.whl.metadata (7.8 kB)\n",
      "Collecting moderngl-window>=2.0.0 (from manim)\n",
      "  Using cached moderngl_window-3.1.1-py3-none-any.whl.metadata (9.0 kB)\n",
      "Requirement already satisfied: networkx>=2.6 in /Users/hcprince/Anaconda/anaconda3/lib/python3.12/site-packages (from manim) (3.2.1)\n",
      "Collecting numpy>=2.1 (from manim)\n",
      "  Using cached numpy-2.3.2-cp312-cp312-macosx_14_0_arm64.whl.metadata (62 kB)\n",
      "Collecting pycairo<2.0.0,>=1.13 (from manim)\n",
      "  Using cached pycairo-1.28.0.tar.gz (662 kB)\n",
      "  Installing build dependencies ... \u001b[?25ldone\n",
      "\u001b[?25h  Getting requirements to build wheel ... \u001b[?25ldone\n",
      "\u001b[?25h  Installing backend dependencies ... \u001b[?25ldone\n",
      "\u001b[?25h  Preparing metadata (pyproject.toml) ... \u001b[?25lerror\n",
      "  \u001b[1;31merror\u001b[0m: \u001b[1msubprocess-exited-with-error\u001b[0m\n",
      "  \n",
      "  \u001b[31m×\u001b[0m \u001b[32mPreparing metadata \u001b[0m\u001b[1;32m(\u001b[0m\u001b[32mpyproject.toml\u001b[0m\u001b[1;32m)\u001b[0m did not run successfully.\n",
      "  \u001b[31m│\u001b[0m exit code: \u001b[1;36m1\u001b[0m\n",
      "  \u001b[31m╰─>\u001b[0m \u001b[31m[50 lines of output]\u001b[0m\n",
      "  \u001b[31m   \u001b[0m \u001b[36m\u001b[1m+ meson setup /private/var/folders/0j/5s26z85d0b7bdrmsmwsx_4740000gp/T/pip-install-busx5lle/pycairo_4db47f74607749c494cc58d3301086f2 /private/var/folders/0j/5s26z85d0b7bdrmsmwsx_4740000gp/T/pip-install-busx5lle/pycairo_4db47f74607749c494cc58d3301086f2/.mesonpy-_uc5f0i4 -Dbuildtype=release -Db_ndebug=if-release -Db_vscrt=md -Dwheel=true -Dtests=false --native-file=/private/var/folders/0j/5s26z85d0b7bdrmsmwsx_4740000gp/T/pip-install-busx5lle/pycairo_4db47f74607749c494cc58d3301086f2/.mesonpy-_uc5f0i4/meson-python-native-file.ini\u001b[0m\n",
      "  \u001b[31m   \u001b[0m The Meson build system\n",
      "  \u001b[31m   \u001b[0m Version: 1.9.0\n",
      "  \u001b[31m   \u001b[0m Source dir: /private/var/folders/0j/5s26z85d0b7bdrmsmwsx_4740000gp/T/pip-install-busx5lle/pycairo_4db47f74607749c494cc58d3301086f2\n",
      "  \u001b[31m   \u001b[0m Build dir: /private/var/folders/0j/5s26z85d0b7bdrmsmwsx_4740000gp/T/pip-install-busx5lle/pycairo_4db47f74607749c494cc58d3301086f2/.mesonpy-_uc5f0i4\n",
      "  \u001b[31m   \u001b[0m Build type: native build\n",
      "  \u001b[31m   \u001b[0m Project name: pycairo\n",
      "  \u001b[31m   \u001b[0m Project version: 1.28.0\n",
      "  \u001b[31m   \u001b[0m C compiler for the host machine: cc (clang 16.0.0 \"Apple clang version 16.0.0 (clang-1600.0.26.6)\")\n",
      "  \u001b[31m   \u001b[0m C linker for the host machine: cc ld64 1115.7.3\n",
      "  \u001b[31m   \u001b[0m Host machine cpu family: aarch64\n",
      "  \u001b[31m   \u001b[0m Host machine cpu: aarch64\n",
      "  \u001b[31m   \u001b[0m Program python3 found: YES (/Users/hcprince/Anaconda/anaconda3/bin/python)\n",
      "  \u001b[31m   \u001b[0m Compiler for C supports arguments -Wall: YES\n",
      "  \u001b[31m   \u001b[0m Compiler for C supports arguments -Warray-bounds: YES\n",
      "  \u001b[31m   \u001b[0m Compiler for C supports arguments -Wcast-align: YES\n",
      "  \u001b[31m   \u001b[0m Compiler for C supports arguments -Wconversion: YES\n",
      "  \u001b[31m   \u001b[0m Compiler for C supports arguments -Wextra: YES\n",
      "  \u001b[31m   \u001b[0m Compiler for C supports arguments -Wformat=2: YES\n",
      "  \u001b[31m   \u001b[0m Compiler for C supports arguments -Wformat-nonliteral: YES\n",
      "  \u001b[31m   \u001b[0m Compiler for C supports arguments -Wformat-security: YES\n",
      "  \u001b[31m   \u001b[0m Compiler for C supports arguments -Wimplicit-function-declaration: YES\n",
      "  \u001b[31m   \u001b[0m Compiler for C supports arguments -Winit-self: YES\n",
      "  \u001b[31m   \u001b[0m Compiler for C supports arguments -Winline: YES\n",
      "  \u001b[31m   \u001b[0m Compiler for C supports arguments -Wmissing-format-attribute: YES\n",
      "  \u001b[31m   \u001b[0m Compiler for C supports arguments -Wmissing-noreturn: YES\n",
      "  \u001b[31m   \u001b[0m Compiler for C supports arguments -Wnested-externs: YES\n",
      "  \u001b[31m   \u001b[0m Compiler for C supports arguments -Wold-style-definition: YES\n",
      "  \u001b[31m   \u001b[0m Compiler for C supports arguments -Wpacked: YES\n",
      "  \u001b[31m   \u001b[0m Compiler for C supports arguments -Wpointer-arith: YES\n",
      "  \u001b[31m   \u001b[0m Compiler for C supports arguments -Wreturn-type: YES\n",
      "  \u001b[31m   \u001b[0m Compiler for C supports arguments -Wshadow: YES\n",
      "  \u001b[31m   \u001b[0m Compiler for C supports arguments -Wsign-compare: YES\n",
      "  \u001b[31m   \u001b[0m Compiler for C supports arguments -Wstrict-aliasing: YES\n",
      "  \u001b[31m   \u001b[0m Compiler for C supports arguments -Wundef: YES\n",
      "  \u001b[31m   \u001b[0m Compiler for C supports arguments -Wunused-but-set-variable: YES\n",
      "  \u001b[31m   \u001b[0m Compiler for C supports arguments -Wswitch-default: YES\n",
      "  \u001b[31m   \u001b[0m Compiler for C supports arguments -Wno-missing-field-initializers: YES\n",
      "  \u001b[31m   \u001b[0m Compiler for C supports arguments -Wno-unused-parameter: YES\n",
      "  \u001b[31m   \u001b[0m Compiler for C supports arguments -fno-strict-aliasing: YES\n",
      "  \u001b[31m   \u001b[0m Compiler for C supports arguments -fvisibility=hidden: YES\n",
      "  \u001b[31m   \u001b[0m Did not find pkg-config by name 'pkg-config'\n",
      "  \u001b[31m   \u001b[0m Found pkg-config: NO\n",
      "  \u001b[31m   \u001b[0m Did not find CMake 'cmake'\n",
      "  \u001b[31m   \u001b[0m Found CMake: NO\n",
      "  \u001b[31m   \u001b[0m Run-time dependency cairo found: NO (tried framework)\n",
      "  \u001b[31m   \u001b[0m \n",
      "  \u001b[31m   \u001b[0m ../cairo/meson.build:31:12: ERROR: Dependency lookup for cairo with method 'pkgconfig' failed: Pkg-config for machine host machine not found. Giving up.\n",
      "  \u001b[31m   \u001b[0m \n",
      "  \u001b[31m   \u001b[0m A full log can be found at /private/var/folders/0j/5s26z85d0b7bdrmsmwsx_4740000gp/T/pip-install-busx5lle/pycairo_4db47f74607749c494cc58d3301086f2/.mesonpy-_uc5f0i4/meson-logs/meson-log.txt\n",
      "  \u001b[31m   \u001b[0m \u001b[31m[end of output]\u001b[0m\n",
      "  \n",
      "  \u001b[1;35mnote\u001b[0m: This error originates from a subprocess, and is likely not a problem with pip.\n",
      "\u001b[?25h\u001b[1;31merror\u001b[0m: \u001b[1mmetadata-generation-failed\u001b[0m\n",
      "\n",
      "\u001b[31m×\u001b[0m Encountered error while generating package metadata.\n",
      "\u001b[31m╰─>\u001b[0m See above for output.\n",
      "\n",
      "\u001b[1;35mnote\u001b[0m: This is an issue with the package mentioned above, not pip.\n",
      "\u001b[1;36mhint\u001b[0m: See above for details.\n",
      "Note: you may need to restart the kernel to use updated packages.\n"
     ]
    }
   ],
   "source": [
    "pip install manim"
   ]
  },
  {
   "cell_type": "code",
   "execution_count": 2,
   "id": "fb7f41c2",
   "metadata": {},
   "outputs": [
    {
     "ename": "ModuleNotFoundError",
     "evalue": "No module named 'manim'",
     "output_type": "error",
     "traceback": [
      "\u001b[0;31m---------------------------------------------------------------------------\u001b[0m",
      "\u001b[0;31mModuleNotFoundError\u001b[0m                       Traceback (most recent call last)",
      "Cell \u001b[0;32mIn[2], line 1\u001b[0m\n\u001b[0;32m----> 1\u001b[0m \u001b[38;5;28;01mimport\u001b[39;00m \u001b[38;5;21;01mmanim\u001b[39;00m \u001b[38;5;28;01mas\u001b[39;00m \u001b[38;5;21;01mmn\u001b[39;00m\n\u001b[1;32m      2\u001b[0m \u001b[38;5;28;01mfrom\u001b[39;00m \u001b[38;5;21;01mmanim\u001b[39;00m \u001b[38;5;28;01mimport\u001b[39;00m \u001b[38;5;241m*\u001b[39m\n\u001b[1;32m      4\u001b[0m config\u001b[38;5;241m.\u001b[39mmedia_width \u001b[38;5;241m=\u001b[39m \u001b[38;5;124m\"\u001b[39m\u001b[38;5;124m75\u001b[39m\u001b[38;5;124m%\u001b[39m\u001b[38;5;124m\"\u001b[39m\n",
      "\u001b[0;31mModuleNotFoundError\u001b[0m: No module named 'manim'"
     ]
    }
   ],
   "source": [
    "import manim as mn\n",
    "from manim import *\n",
    "\n",
    "config.media_width = \"75%\"\n",
    "config.verbosity = \"WARNING\"\n",
    "\n",
    "print(mn.__version__)"
   ]
  },
  {
   "cell_type": "code",
   "execution_count": null,
   "id": "d2c4b0bb",
   "metadata": {},
   "outputs": [],
   "source": []
  }
 ],
 "metadata": {
  "kernelspec": {
   "display_name": "base",
   "language": "python",
   "name": "python3"
  },
  "language_info": {
   "codemirror_mode": {
    "name": "ipython",
    "version": 3
   },
   "file_extension": ".py",
   "mimetype": "text/x-python",
   "name": "python",
   "nbconvert_exporter": "python",
   "pygments_lexer": "ipython3",
   "version": "3.12.4"
  }
 },
 "nbformat": 4,
 "nbformat_minor": 5
}
